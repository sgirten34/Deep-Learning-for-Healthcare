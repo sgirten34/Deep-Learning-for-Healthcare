{
 "cells": [
  {
   "cell_type": "markdown",
   "id": "671d08e7",
   "metadata": {
    "deletable": false,
    "editable": false,
    "nbgrader": {
     "cell_type": "markdown",
     "checksum": "c7101e937a7007453ea2cff977c46017",
     "grade": false,
     "grade_id": "cell-0564fedb722571e6",
     "locked": true,
     "schema_version": 3,
     "solution": false,
     "task": false
    }
   },
   "source": [
    "# **HW2_pyhealth_medcode**\n",
    "\n",
    "## Overview\n",
    "\n",
    "```pyhealth.medcode``` is the medical code tool in pyhealth, which provides two core functionalities: \n",
    "\n",
    "- (1) looking up information for a given medical code (e.g., name, category, sub-concept); \n",
    "- (2) mapping codes across coding systems (e.g., ICD9CM to CCSCM). \n",
    "\n",
    "The documentation is at https://pyhealth.readthedocs.io/en/latest/api/medcode.html.\n",
    "    \n",
    "This assignment is designed to get you familiar with ```pyhealth.medcode```. After finishing the homework, you may use the module to help implement part of the final projects. "
   ]
  },
  {
   "cell_type": "markdown",
   "id": "090e3060",
   "metadata": {
    "deletable": false,
    "editable": false,
    "nbgrader": {
     "cell_type": "markdown",
     "checksum": "fc1859d3f7fc22bcfbf0a181331e2c66",
     "grade": false,
     "grade_id": "cell-c3bf66e717569bbf",
     "locked": true,
     "schema_version": 3,
     "solution": false,
     "task": false
    }
   },
   "source": [
    "## 1 Code Lookup\n",
    "\n",
    "`class pyhealth.medcode.InnerMap`\n",
    "\n",
    "Documentation at https://pyhealth.readthedocs.io/en/latest/api/medcode.html#pyhealth.medcode.InnerMap\n",
    "\n",
    "### Functionality\n",
    "- lookup(code): looks up code in a coding system\n",
    "- contains(code): checks whether a code belongs to a specific coding system\n",
    "- get_ancestors(code): returns the ancestors for a given code\n",
    "\n",
    "Currently, we support the following coding systems:\n",
    "\n",
    "- Diagnosis codes:\n",
    "    - ICD9CM\n",
    "    - ICD10CM\n",
    "    - CCSCM\n",
    "- Procedure codes:\n",
    "    - ICD9PROC\n",
    "    - ICD10PROC\n",
    "    - CCSPROC\n",
    "- Medication codes:\n",
    "    - NDC\n",
    "    - RxNorm\n",
    "    - ATC"
   ]
  },
  {
   "cell_type": "markdown",
   "id": "0c482ae0",
   "metadata": {
    "deletable": false,
    "editable": false,
    "nbgrader": {
     "cell_type": "markdown",
     "checksum": "20a20ce234496b069277a2f6354aa831",
     "grade": false,
     "grade_id": "cell-1385d944b7e1c786",
     "locked": true,
     "schema_version": 3,
     "solution": false,
     "task": false
    }
   },
   "source": [
    "## 1.1 Look up ICD9CM code\n",
    "\n",
    "Let's first try to look up the ICD9 CM code 428.0, which stands for \"Congestive heart failure, unspecified\"."
   ]
  },
  {
   "cell_type": "code",
   "execution_count": 1,
   "id": "831826c3",
   "metadata": {
    "deletable": false,
    "editable": false,
    "nbgrader": {
     "cell_type": "code",
     "checksum": "baee12de65401ce9d368eaa50750a32b",
     "grade": false,
     "grade_id": "cell-34c33cc0005842ec",
     "locked": true,
     "schema_version": 3,
     "solution": false,
     "task": false
    }
   },
   "outputs": [],
   "source": [
    "from pyhealth.medcode import InnerMap\n",
    "icd9cm = InnerMap.load(\"ICD9CM\")\n",
    "\n",
    "# let's first check if the code is in ICD9CM\n",
    "\"428.0\" in icd9cm"
   ]
  },
  {
   "cell_type": "code",
   "execution_count": 2,
   "id": "fb299ef5",
   "metadata": {
    "deletable": false,
    "editable": false,
    "nbgrader": {
     "cell_type": "code",
     "checksum": "9cecfb3b6e864e670ea49aea8774458f",
     "grade": false,
     "grade_id": "cell-42de3102e39980c6",
     "locked": true,
     "schema_version": 3,
     "solution": false,
     "task": false
    }
   },
   "outputs": [],
   "source": [
    "# next let's look up this code\n",
    "icd9cm.lookup(\"428.0\")"
   ]
  },
  {
   "cell_type": "code",
   "execution_count": 3,
   "id": "a602d68c",
   "metadata": {
    "deletable": false,
    "editable": false,
    "nbgrader": {
     "cell_type": "code",
     "checksum": "7731238cf62786f3bf3be42069be6c19",
     "grade": false,
     "grade_id": "cell-882630876bc15c8e",
     "locked": true,
     "schema_version": 3,
     "solution": false,
     "task": false
    }
   },
   "outputs": [],
   "source": [
    "# we can also get the ancestors of this code\n",
    "icd9cm.get_ancestors(\"428.0\")"
   ]
  },
  {
   "cell_type": "markdown",
   "id": "e50540aa",
   "metadata": {
    "deletable": false,
    "editable": false,
    "nbgrader": {
     "cell_type": "markdown",
     "checksum": "3ced0945b031eec3adab9fb71594fcdb",
     "grade": false,
     "grade_id": "cell-aa1e862e068d63a0",
     "locked": true,
     "schema_version": 3,
     "solution": false,
     "task": false
    }
   },
   "source": [
    "Note that if the code is not in standard format (e.g., \"4280\" instead of \"428.0\"), medcode will automatically normalize it."
   ]
  },
  {
   "cell_type": "code",
   "execution_count": 4,
   "id": "77fc3901",
   "metadata": {
    "deletable": false,
    "editable": false,
    "nbgrader": {
     "cell_type": "code",
     "checksum": "316e33664d865b771c504628b1922a13",
     "grade": false,
     "grade_id": "cell-2a2a0c7209acc7fe",
     "locked": true,
     "schema_version": 3,
     "solution": false,
     "task": false
    }
   },
   "outputs": [],
   "source": [
    "# non-standard format\n",
    "icd9cm.lookup(\"4280\")"
   ]
  },
  {
   "cell_type": "markdown",
   "id": "bb0b58e1",
   "metadata": {
    "deletable": false,
    "editable": false,
    "nbgrader": {
     "cell_type": "markdown",
     "checksum": "809a01a72f75b7da000b7a99aeb22346",
     "grade": false,
     "grade_id": "cell-184274c805c64f99",
     "locked": true,
     "schema_version": 3,
     "solution": false,
     "task": false
    }
   },
   "source": [
    "### TODO: look up the following ICD9CM codes: 480.1, 280, 394"
   ]
  },
  {
   "cell_type": "code",
   "execution_count": 5,
   "id": "c3648cf6",
   "metadata": {
    "deletable": false
   },
   "outputs": [],
   "source": [
    "icd9_4801 = None\n",
    "icd9_280 = None\n",
    "icd9_394 = None\n",
    "\n",
    "icd9_4801 = icd9cm.lookup('480.1')\n",
    "icd9_280 = icd9cm.lookup('280')\n",
    "icd9_394 = icd9cm.lookup('394')\n",
    "\n",
    "#raise NotImplementedError"
   ]
  },
  {
   "cell_type": "code",
   "execution_count": 6,
   "id": "94b478b4",
   "metadata": {
    "deletable": false,
    "editable": false,
    "nbgrader": {
     "cell_type": "code",
     "checksum": "f941216eea9b5073e2762c62400e8ff7",
     "grade": true,
     "grade_id": "cell-eedf81fb3dd0e0d1",
     "locked": true,
     "points": 20,
     "schema_version": 3,
     "solution": false,
     "task": false
    }
   },
   "outputs": [],
   "source": [
    "'''\n",
    "AUTOGRADER CELL. DO NOT MODIFY THIS.\n",
    "'''\n",
    "\n"
   ]
  },
  {
   "cell_type": "markdown",
   "id": "6a7d5049",
   "metadata": {
    "deletable": false,
    "editable": false,
    "nbgrader": {
     "cell_type": "markdown",
     "checksum": "6e365dc201a4d1ff78c874adc8a4099a",
     "grade": false,
     "grade_id": "cell-c0dde5e496bb1edf",
     "locked": true,
     "schema_version": 3,
     "solution": false,
     "task": false
    }
   },
   "source": [
    "### TODO: look up the following CCSPROC codes: 2, 5, 10"
   ]
  },
  {
   "cell_type": "code",
   "execution_count": 7,
   "id": "47a0694d",
   "metadata": {
    "deletable": false
   },
   "outputs": [],
   "source": [
    "ccsproc = InnerMap.load(\"CCSPROC\")\n",
    "\n",
    "ccs_2 = None\n",
    "ccs_5 = None\n",
    "ccs_10 = None\n",
    "\n",
    "ccs_2 = ccsproc.lookup('2')\n",
    "ccs_5 = ccsproc.lookup('5')\n",
    "ccs_10 = ccsproc.lookup('10')\n",
    "\n",
    "#raise NotImplementedError"
   ]
  },
  {
   "cell_type": "code",
   "execution_count": 8,
   "id": "91a610bb",
   "metadata": {
    "deletable": false,
    "editable": false,
    "nbgrader": {
     "cell_type": "code",
     "checksum": "183682cc35caa8a395176dc41c72a76d",
     "grade": true,
     "grade_id": "cell-beea3773ba306a8b",
     "locked": true,
     "points": 20,
     "schema_version": 3,
     "solution": false,
     "task": false
    }
   },
   "outputs": [],
   "source": [
    "'''\n",
    "AUTOGRADER CELL. DO NOT MODIFY THIS.\n",
    "'''\n",
    "\n"
   ]
  },
  {
   "cell_type": "markdown",
   "id": "de64ad11",
   "metadata": {
    "deletable": false,
    "editable": false,
    "nbgrader": {
     "cell_type": "markdown",
     "checksum": "f8135b9e7a2b032bcb59f7af9767a6fb",
     "grade": false,
     "grade_id": "cell-2df92fbee10c2459",
     "locked": true,
     "schema_version": 3,
     "solution": false,
     "task": false
    }
   },
   "source": [
    "## 1.2 Look up ATC code\n",
    "\n",
    "For the medication code ATC, medcode provides additional information from DrugBank,."
   ]
  },
  {
   "cell_type": "code",
   "execution_count": 9,
   "id": "77d802ab",
   "metadata": {
    "deletable": false,
    "editable": false,
    "nbgrader": {
     "cell_type": "code",
     "checksum": "8064007039f64137dac364d86525f4b9",
     "grade": false,
     "grade_id": "cell-1207a991cb595575",
     "locked": true,
     "schema_version": 3,
     "solution": false,
     "task": false
    }
   },
   "outputs": [],
   "source": [
    "atc = InnerMap.load(\"ATC\")\n",
    "\n",
    "# let's search for M01AE51\n",
    "atc.lookup(\"M01AE51\")"
   ]
  },
  {
   "cell_type": "code",
   "execution_count": 10,
   "id": "267ae938",
   "metadata": {
    "deletable": false,
    "editable": false,
    "nbgrader": {
     "cell_type": "code",
     "checksum": "3e49cb0a7f75c1af8d99dc2bb41d805c",
     "grade": false,
     "grade_id": "cell-8302505fa51c4cdd",
     "locked": true,
     "schema_version": 3,
     "solution": false,
     "task": false
    }
   },
   "outputs": [],
   "source": [
    "#  DrugBank ID\n",
    "print(atc.lookup(\"M01AE51\", \"drugbank_id\"))"
   ]
  },
  {
   "cell_type": "code",
   "execution_count": 11,
   "id": "5b1f2397",
   "metadata": {
    "deletable": false,
    "editable": false,
    "nbgrader": {
     "cell_type": "code",
     "checksum": "d8a73c8a4dcc634548766a666e59f834",
     "grade": false,
     "grade_id": "cell-d859082a23e50c3d",
     "locked": true,
     "schema_version": 3,
     "solution": false,
     "task": false
    }
   },
   "outputs": [],
   "source": [
    "#  Drug description from DrugBank\n",
    "print(atc.lookup(\"M01AE51\", \"description\"))"
   ]
  },
  {
   "cell_type": "code",
   "execution_count": 12,
   "id": "efe151c2",
   "metadata": {
    "deletable": false,
    "editable": false,
    "nbgrader": {
     "cell_type": "code",
     "checksum": "0619b1e6bcb45744cbe872fe408353a3",
     "grade": false,
     "grade_id": "cell-641b4a58b5ff1247",
     "locked": true,
     "schema_version": 3,
     "solution": false,
     "task": false
    }
   },
   "outputs": [],
   "source": [
    "#  Drug indication from DrugBank\n",
    "print(atc.lookup(\"M01AE51\", \"indication\"))"
   ]
  },
  {
   "cell_type": "code",
   "execution_count": 13,
   "id": "47a14f49",
   "metadata": {
    "deletable": false,
    "editable": false,
    "nbgrader": {
     "cell_type": "code",
     "checksum": "b5fdd8f94cbd20ba9dcf0ea34a075a67",
     "grade": false,
     "grade_id": "cell-5fee4bd83e4e1ee7",
     "locked": true,
     "schema_version": 3,
     "solution": false,
     "task": false
    }
   },
   "outputs": [],
   "source": [
    "#  Drug SMILES string from DrugBank\n",
    "print(atc.lookup(\"M01AE51\", \"smiles\"))"
   ]
  },
  {
   "cell_type": "markdown",
   "id": "35a5a8b1",
   "metadata": {
    "deletable": false,
    "editable": false,
    "nbgrader": {
     "cell_type": "markdown",
     "checksum": "91c8ea9683578c78f0c20fd9ef3ef51a",
     "grade": false,
     "grade_id": "cell-78412cff1ca43410",
     "locked": true,
     "schema_version": 3,
     "solution": false,
     "task": false
    }
   },
   "source": [
    "### TODO: look up the drugbank_id, descriptions, indications and smiles for ATC code: B01AC06 (Aspirin)"
   ]
  },
  {
   "cell_type": "code",
   "execution_count": 14,
   "id": "1e1d64f3",
   "metadata": {
    "deletable": false
   },
   "outputs": [],
   "source": [
    "atc_dbid_B01AC06 = None\n",
    "atc_description_B01AC06 = None\n",
    "atc_indication_B01AC06 = None\n",
    "atc_smiles_B01AC06 = None\n",
    "\n",
    "atc_dbid_B01AC06 = atc.lookup(\"B01AC06\", \"drugbank_id\")\n",
    "atc_description_B01AC06 = atc.lookup(\"B01AC06\", \"description\")\n",
    "atc_indication_B01AC06 = atc.lookup(\"B01AC06\", \"indication\")\n",
    "atc_smiles_B01AC06 = atc.lookup(\"B01AC06\", \"smiles\")\n",
    "#raise NotImplementedError"
   ]
  },
  {
   "cell_type": "code",
   "execution_count": 15,
   "id": "8cb027de",
   "metadata": {
    "deletable": false,
    "editable": false,
    "nbgrader": {
     "cell_type": "code",
     "checksum": "18b99c3172a452d5bab82fa745a6e932",
     "grade": true,
     "grade_id": "cell-67ca3cad5fcf1a15",
     "locked": true,
     "points": 30,
     "schema_version": 3,
     "solution": false,
     "task": false
    }
   },
   "outputs": [],
   "source": [
    "'''\n",
    "AUTOGRADER CELL. DO NOT MODIFY THIS.\n",
    "'''\n",
    "\n"
   ]
  },
  {
   "cell_type": "markdown",
   "id": "a79f3859",
   "metadata": {
    "deletable": false,
    "editable": false,
    "nbgrader": {
     "cell_type": "markdown",
     "checksum": "59262a579ebea8596f865ac3c78fb9a1",
     "grade": false,
     "grade_id": "cell-b1c3c4919295babe",
     "locked": true,
     "schema_version": 3,
     "solution": false,
     "task": false
    }
   },
   "source": [
    "## 2. Code Mapping\n",
    "\n",
    "`class pyhealth.medcode.CodeMap`\n",
    "\n",
    "Documentation at https://pyhealth.readthedocs.io/en/latest/api/medcode.html#pyhealth.medcode.CrossMap\n",
    "\n",
    "### Args\n",
    "- source: source code vocabulary to map from\n",
    "- target: target code vocabulary to map to\n",
    "\n",
    "### Functionality\n",
    "- map(source_code): maps source_code to the target vocabulary\n",
    "\n",
    "Currently, we support the following mapping:\n",
    "\n",
    "- With in diagnosis codes:\n",
    "    - ICD9CM <-> CCSCM\n",
    "    - ICD10CM <-> CCSCM\n",
    "- With in procedure codes:\n",
    "    - ICD9PROC <-> CCSPROC\n",
    "    - ICD10PROC <-> CCSPROC\n",
    "- With in medication codes:\n",
    "    - NDC <-> RxNorm\n",
    "    - NDC <-> ATC\n",
    "    - RxNorm <-> ATC\n",
    "- Between diagnosis and medication codes:\n",
    "    - ATC <-> ICD9CM"
   ]
  },
  {
   "cell_type": "markdown",
   "id": "9a830700",
   "metadata": {
    "deletable": false,
    "editable": false,
    "nbgrader": {
     "cell_type": "markdown",
     "checksum": "20ae8280405861f252af1155f1c1afd4",
     "grade": false,
     "grade_id": "cell-0c6a856def29219e",
     "locked": true,
     "schema_version": 3,
     "solution": false,
     "task": false
    }
   },
   "source": [
    "## 2.1 Map ICD9CM code to CCSCM code\n",
    "\n",
    "Let's try to map the ICD9 CM code 428.0, which stands for \"Congestive heart failure, unspecified\", to CCS CM code."
   ]
  },
  {
   "cell_type": "code",
   "execution_count": 16,
   "id": "14411cd1",
   "metadata": {
    "deletable": false,
    "editable": false,
    "nbgrader": {
     "cell_type": "code",
     "checksum": "1e856ca137d697c078d56b3c46fc4ff8",
     "grade": false,
     "grade_id": "cell-87d8b9f96a77e023",
     "locked": true,
     "schema_version": 3,
     "solution": false,
     "task": false
    }
   },
   "outputs": [],
   "source": [
    "from pyhealth.medcode import CrossMap\n",
    "\n",
    "mapping = CrossMap.load(source_vocabulary=\"ICD9CM\", target_vocabulary=\"CCSCM\")\n",
    "mapping.map(\"428.0\")"
   ]
  },
  {
   "cell_type": "markdown",
   "id": "7537e3bb",
   "metadata": {
    "deletable": false,
    "editable": false,
    "nbgrader": {
     "cell_type": "markdown",
     "checksum": "eee69a291a782a9ecddaaee9b87fa38c",
     "grade": false,
     "grade_id": "cell-3680fbcf24d1995f",
     "locked": true,
     "schema_version": 3,
     "solution": false,
     "task": false
    }
   },
   "source": [
    "Note that the returned variable is a list of codes, due to the possible one-to-many mapping."
   ]
  },
  {
   "cell_type": "code",
   "execution_count": 17,
   "id": "8d83f806",
   "metadata": {
    "deletable": false,
    "editable": false,
    "nbgrader": {
     "cell_type": "code",
     "checksum": "1a6b509208294a499826ea4c68a9ddae",
     "grade": false,
     "grade_id": "cell-5f08a174358351b7",
     "locked": true,
     "schema_version": 3,
     "solution": false,
     "task": false
    }
   },
   "outputs": [],
   "source": [
    "# let's check if the mapping is correct\n",
    "ccscm = InnerMap.load(\"CCSCM\")\n",
    "ccscm.lookup(\"108\")"
   ]
  },
  {
   "cell_type": "markdown",
   "id": "2557e676",
   "metadata": {
    "deletable": false,
    "editable": false,
    "nbgrader": {
     "cell_type": "markdown",
     "checksum": "1a4aca78a4f23eae77255610ca561f40",
     "grade": false,
     "grade_id": "cell-1b637c77322fd57a",
     "locked": true,
     "schema_version": 3,
     "solution": false,
     "task": false
    }
   },
   "source": [
    "## 2.2 Map NDC code to ATC code\n",
    "\n",
    "Let's try to map the NDC code 5058060001, which is acetaminophen 325 MG Oral Tablet [Tylenol].\n",
    "\n",
    "See https://fda.report/NDC/50580-496."
   ]
  },
  {
   "cell_type": "code",
   "execution_count": 18,
   "id": "04d83a5e",
   "metadata": {
    "deletable": false,
    "editable": false,
    "nbgrader": {
     "cell_type": "code",
     "checksum": "b6d3d1cd511c8e1c6f16edd4fd185dcf",
     "grade": false,
     "grade_id": "cell-33fba93223b34b49",
     "locked": true,
     "schema_version": 3,
     "solution": false,
     "task": false
    }
   },
   "outputs": [],
   "source": [
    "from pyhealth.medcode import CrossMap\n",
    "\n",
    "mapping = CrossMap.load(\"NDC\", \"RxNorm\")\n",
    "mapping.map(\"50580049698\")\n",
    "# (please be patient, loading NDC and RxNorm tables...\n",
    "# it may take up to 5 minutes.)"
   ]
  },
  {
   "cell_type": "code",
   "execution_count": 19,
   "id": "ced888f4",
   "metadata": {
    "deletable": false,
    "editable": false,
    "nbgrader": {
     "cell_type": "code",
     "checksum": "2f90fa5ecd64e091c3a8bbad5da4b147",
     "grade": false,
     "grade_id": "cell-e6149e87b90796d5",
     "locked": true,
     "schema_version": 3,
     "solution": false,
     "task": false
    }
   },
   "outputs": [],
   "source": [
    "mapping = CrossMap.load(\"RxNorm\", \"NDC\")\n",
    "# (please be patient, it may take up to 5 minutes)\n",
    "mapping.map(\"209387\")"
   ]
  },
  {
   "cell_type": "code",
   "execution_count": 20,
   "id": "ef0fe3d3",
   "metadata": {
    "deletable": false,
    "editable": false,
    "nbgrader": {
     "cell_type": "code",
     "checksum": "c28eb5756fc252b259aae4eb22bcfedd",
     "grade": false,
     "grade_id": "cell-6988e45667387ef0",
     "locked": true,
     "schema_version": 3,
     "solution": false,
     "task": false
    }
   },
   "outputs": [],
   "source": [
    "# let's check if the mapping is correct\n",
    "ccscm = InnerMap.load(\"RxNorm\")\n",
    "ccscm.lookup(\"209387\")"
   ]
  },
  {
   "cell_type": "markdown",
   "id": "b07bc3f9",
   "metadata": {
    "deletable": false,
    "editable": false,
    "nbgrader": {
     "cell_type": "markdown",
     "checksum": "142484ba9296b3386ab210e061088a21",
     "grade": false,
     "grade_id": "cell-863b9f0c8376afc8",
     "locked": true,
     "schema_version": 3,
     "solution": false,
     "task": false
    }
   },
   "source": [
    "### TODO: Map NDC code 50090539100 to ATC.\n",
    "\n",
    "See https://ndclist.com/ndc/50090-5391/package/50090-5391-0."
   ]
  },
  {
   "cell_type": "code",
   "execution_count": 21,
   "id": "3a5ebc3b",
   "metadata": {
    "deletable": false
   },
   "outputs": [],
   "source": [
    "result = None\n",
    "\n",
    "mapping = CrossMap.load(\"NDC\", \"ATC\")\n",
    "result = mapping.map(\"50090539100\")\n",
    "result\n",
    "\n",
    "#raise NotImplementedError"
   ]
  },
  {
   "cell_type": "code",
   "execution_count": null,
   "id": "035b5df1",
   "metadata": {
    "deletable": false,
    "editable": false,
    "nbgrader": {
     "cell_type": "code",
     "checksum": "df729f04b867b73093767031a46e592c",
     "grade": true,
     "grade_id": "cell-73e0d81018378df7",
     "locked": true,
     "points": 30,
     "schema_version": 3,
     "solution": false,
     "task": false
    }
   },
   "outputs": [],
   "source": [
    "'''\n",
    "AUTOGRADER CELL. DO NOT MODIFY THIS.\n",
    "'''\n",
    "\n"
   ]
  },
  {
   "cell_type": "code",
   "execution_count": null,
   "id": "e857e6ff",
   "metadata": {},
   "outputs": [],
   "source": []
  }
 ],
 "metadata": {
  "illinois_payload": {
   "b64z": "",
   "nb_path": "release/HW2_pyhealth_medcode/HW2_pyhealth_medcode.ipynb"
  },
  "kernelspec": {
   "display_name": "Python 3 (Threads: 2)",
   "language": "python",
   "name": "python3"
  },
  "language_info": {
   "codemirror_mode": {
    "name": "ipython",
    "version": 3
   },
   "file_extension": ".py",
   "mimetype": "text/x-python",
   "name": "python",
   "nbconvert_exporter": "python",
   "pygments_lexer": "ipython3",
   "version": "3.8.15"
  }
 },
 "nbformat": 4,
 "nbformat_minor": 5
}
